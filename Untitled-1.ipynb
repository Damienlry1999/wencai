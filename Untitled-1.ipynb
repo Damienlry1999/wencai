{
 "cells": [
  {
   "cell_type": "code",
   "execution_count": 2,
   "metadata": {},
   "outputs": [
    {
     "name": "stderr",
     "output_type": "stream",
     "text": [
      "/home/codespace/.local/lib/python3.10/site-packages/urllib3/connectionpool.py:1095: InsecureRequestWarning: Unverified HTTPS request is being made to host 'search.10jqka.com.cn'. Adding certificate verification is strongly advised. See: https://urllib3.readthedocs.io/en/latest/advanced-usage.html#tls-warnings\n",
      "  warnings.warn(\n"
     ]
    },
    {
     "ename": "TypeError",
     "evalue": "list indices must be integers or slices, not str",
     "output_type": "error",
     "traceback": [
      "\u001b[0;31m---------------------------------------------------------------------------\u001b[0m",
      "\u001b[0;31mTypeError\u001b[0m                                 Traceback (most recent call last)",
      "Cell \u001b[0;32mIn[2], line 2\u001b[0m\n\u001b[1;32m      1\u001b[0m \u001b[39mimport\u001b[39;00m \u001b[39mwencai\u001b[39;00m \u001b[39mas\u001b[39;00m \u001b[39mwc\u001b[39;00m\n\u001b[0;32m----> 2\u001b[0m df\u001b[39m=\u001b[39mwc\u001b[39m.\u001b[39;49msearch(query\u001b[39m=\u001b[39;49m\u001b[39m'\u001b[39;49m\u001b[39m医药,非st\u001b[39;49m\u001b[39m'\u001b[39;49m)\n\u001b[1;32m      3\u001b[0m df\n",
      "File \u001b[0;32m/workspaces/wencai/wencai/core/event.py:48\u001b[0m, in \u001b[0;36msearch\u001b[0;34m(query)\u001b[0m\n\u001b[1;32m     47\u001b[0m \u001b[39mdef\u001b[39;00m \u001b[39msearch\u001b[39m(query):\n\u001b[0;32m---> 48\u001b[0m     \u001b[39mreturn\u001b[39;00m Wencai(proxies\u001b[39m=\u001b[39;49m\u001b[39mglobals\u001b[39;49m()[\u001b[39m'\u001b[39;49m\u001b[39mglobal_proxies\u001b[39;49m\u001b[39m'\u001b[39;49m], verify\u001b[39m=\u001b[39;49m\u001b[39mglobals\u001b[39;49m()[\u001b[39m'\u001b[39;49m\u001b[39mverify\u001b[39;49m\u001b[39m'\u001b[39;49m])\u001b[39m.\u001b[39;49msearch(query_string\u001b[39m=\u001b[39;49mquery)\n",
      "File \u001b[0;32m/workspaces/wencai/wencai/core/crawler.py:102\u001b[0m, in \u001b[0;36mWencai.search\u001b[0;34m(self, query_string)\u001b[0m\n\u001b[1;32m     87\u001b[0m payload \u001b[39m=\u001b[39m {\n\u001b[1;32m     88\u001b[0m     \u001b[39m\"\u001b[39m\u001b[39mquestion\u001b[39m\u001b[39m\"\u001b[39m: query_string,\n\u001b[1;32m     89\u001b[0m     \u001b[39m\"\u001b[39m\u001b[39mpage\u001b[39m\u001b[39m\"\u001b[39m: \u001b[39m5\u001b[39m,\n\u001b[0;32m   (...)\u001b[0m\n\u001b[1;32m     97\u001b[0m     \u001b[39m\"\u001b[39m\u001b[39madd_info\u001b[39m\u001b[39m\"\u001b[39m: \u001b[39m'\u001b[39m\u001b[39m{\u001b[39m\u001b[39m\"\u001b[39m\u001b[39murp\u001b[39m\u001b[39m\"\u001b[39m\u001b[39m: \u001b[39m\u001b[39m{\u001b[39m\u001b[39m\"\u001b[39m\u001b[39mscene\u001b[39m\u001b[39m\"\u001b[39m\u001b[39m: 1, \u001b[39m\u001b[39m\"\u001b[39m\u001b[39mcompany\u001b[39m\u001b[39m\"\u001b[39m\u001b[39m: 1, \u001b[39m\u001b[39m\"\u001b[39m\u001b[39mbusiness\u001b[39m\u001b[39m\"\u001b[39m\u001b[39m: 1}, \u001b[39m\u001b[39m\"\u001b[39m\u001b[39mcontentType\u001b[39m\u001b[39m\"\u001b[39m\u001b[39m: \u001b[39m\u001b[39m\"\u001b[39m\u001b[39mjson\u001b[39m\u001b[39m\"\u001b[39m\u001b[39m, \u001b[39m\u001b[39m\"\u001b[39m\u001b[39msearchInfo\u001b[39m\u001b[39m\"\u001b[39m\u001b[39m: true}\u001b[39m\u001b[39m'\u001b[39m\n\u001b[1;32m     98\u001b[0m }\n\u001b[1;32m    100\u001b[0m r \u001b[39m=\u001b[39m \u001b[39mself\u001b[39m\u001b[39m.\u001b[39msession\u001b[39m.\u001b[39mpost_result(url\u001b[39m=\u001b[39mWENCAI_CRAWLER_URL[\u001b[39m'\u001b[39m\u001b[39msearch\u001b[39m\u001b[39m'\u001b[39m],\n\u001b[1;32m    101\u001b[0m                              data\u001b[39m=\u001b[39mpayload, force_cookies\u001b[39m=\u001b[39m\u001b[39mTrue\u001b[39;00m)\n\u001b[0;32m--> 102\u001b[0m result \u001b[39m=\u001b[39m r\u001b[39m.\u001b[39;49mjson()[\u001b[39m'\u001b[39;49m\u001b[39mdata\u001b[39;49m\u001b[39m'\u001b[39;49m][\u001b[39m'\u001b[39;49m\u001b[39manswer\u001b[39;49m\u001b[39m'\u001b[39;49m][\u001b[39m0\u001b[39m][\u001b[39m'\u001b[39m\u001b[39mtxt\u001b[39m\u001b[39m'\u001b[39m][\u001b[39m0\u001b[39m][\u001b[39m'\u001b[39m\u001b[39mcontent\u001b[39m\u001b[39m'\u001b[39m][\u001b[39m'\u001b[39m\u001b[39mcomponents\u001b[39m\u001b[39m'\u001b[39m][\u001b[39m0\u001b[39m][\u001b[39m'\u001b[39m\u001b[39mdata\u001b[39m\u001b[39m'\u001b[39m][\u001b[39m'\u001b[39m\u001b[39mdatas\u001b[39m\u001b[39m'\u001b[39m]\n\u001b[1;32m    104\u001b[0m \u001b[39mdef\u001b[39;00m \u001b[39m_re_str\u001b[39m(x: \u001b[39mstr\u001b[39m):\n\u001b[1;32m    105\u001b[0m     _re \u001b[39m=\u001b[39m re\u001b[39m.\u001b[39mfindall(\u001b[39m'\u001b[39m\u001b[39m(.*):前复权\u001b[39m\u001b[39m'\u001b[39m, x)\n",
      "\u001b[0;31mTypeError\u001b[0m: list indices must be integers or slices, not str"
     ]
    }
   ],
   "source": [
    "import wencai as wc\n",
    "from wencai.core"
   ]
  }
 ],
 "metadata": {
  "kernelspec": {
   "display_name": "Python 3",
   "language": "python",
   "name": "python3"
  },
  "language_info": {
   "codemirror_mode": {
    "name": "ipython",
    "version": 3
   },
   "file_extension": ".py",
   "mimetype": "text/x-python",
   "name": "python",
   "nbconvert_exporter": "python",
   "pygments_lexer": "ipython3",
   "version": "3.10.8"
  },
  "orig_nbformat": 4
 },
 "nbformat": 4,
 "nbformat_minor": 2
}
